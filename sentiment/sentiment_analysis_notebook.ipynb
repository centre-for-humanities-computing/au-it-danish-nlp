{
 "cells": [
  {
   "cell_type": "markdown",
   "id": "f363bf56-3725-4f6e-8e37-96b7415388c0",
   "metadata": {},
   "source": [
    "# Sentiment Analysis\n",
    "\n",
    "In this notebook, you'll see how to perform sentiment analysis using Python and state-of-the-art natural language processing tools."
   ]
  },
  {
   "cell_type": "code",
   "execution_count": 1,
   "id": "73ea364a-a24a-47c0-9382-60b62b68604c",
   "metadata": {
    "tags": []
   },
   "outputs": [
    {
     "name": "stdout",
     "output_type": "stream",
     "text": [
      "Installation complete.\n"
     ]
    }
   ],
   "source": [
    "!bash setup.sh\n",
    "print(\"Installation complete.\")"
   ]
  },
  {
   "cell_type": "markdown",
   "id": "95b43ac2-b6f5-4568-b4e7-9fc631310fb4",
   "metadata": {},
   "source": [
    "The first thing we want to do it to load the model that we're going to use for analysis:"
   ]
  },
  {
   "cell_type": "code",
   "execution_count": 2,
   "id": "f9dda6e4-5305-4c79-a68e-f190ed4a35fa",
   "metadata": {
    "tags": []
   },
   "outputs": [
    {
     "name": "stdout",
     "output_type": "stream",
     "text": [
      "Model Successfully loaded.\n"
     ]
    }
   ],
   "source": [
    "# Instantiate the model\n",
    "from transformers import pipeline\n",
    "from IPython.display import clear_output\n",
    "distilled_student_sentiment_classifier = pipeline(\n",
    "    model=\"lxyuan/distilbert-base-multilingual-cased-sentiments-student\", \n",
    "    return_all_scores=True\n",
    ")\n",
    "clear_output(wait=True)\n",
    "print(\"Model Successfully loaded.\")"
   ]
  },
  {
   "cell_type": "markdown",
   "id": "46aea338-8d93-495b-8b18-1af17b1deb94",
   "metadata": {},
   "source": [
    "We can then define a couple of sentences on which we want to perform sentiment analysis.\n",
    "\n",
    "For every sentence that we put in the list, we get back a prediction about sentiment and the model's certainty about it's predictions:"
   ]
  },
  {
   "cell_type": "code",
   "execution_count": 3,
   "id": "437a93ef-72a5-4427-9983-e7702b8673d7",
   "metadata": {
    "tags": []
   },
   "outputs": [
    {
     "name": "stdout",
     "output_type": "stream",
     "text": [
      "English Sentence: I love this film!\n",
      "Sentiment: positive (99%)\n",
      "English Sentence: I hate fishing!\n",
      "Sentiment: negative (96%)\n"
     ]
    }
   ],
   "source": [
    "# English\n",
    "english_sentences = [\"I love this film!\", \"I hate fishing!\"]\n",
    "for english_sentence in english_sentences:\n",
    "    english_results = distilled_student_sentiment_classifier(english_sentence)\n",
    "    print(f\"English Sentence: {english_sentence}\")\n",
    "    most_probable = sorted(english_results[0], key=lambda d: d['score'], reverse=True)[0]\n",
    "    print(f\"Sentiment: {most_probable['label']} ({int(most_probable['score']*100)}%)\")"
   ]
  },
  {
   "cell_type": "markdown",
   "id": "47fa1b7d-89ac-498e-b074-9ca242100e7d",
   "metadata": {},
   "source": [
    "The same model can also be used to predict sentiment for Danish texts:"
   ]
  },
  {
   "cell_type": "code",
   "execution_count": 4,
   "id": "1821554f-6c70-4ba4-9cee-7fbebda2ec3b",
   "metadata": {
    "tags": []
   },
   "outputs": [
    {
     "name": "stdout",
     "output_type": "stream",
     "text": [
      "Danish sentence: Jeg elsker denne film!\n",
      "Sentiment: positive (95%)\n"
     ]
    }
   ],
   "source": [
    "# Danish\n",
    "danish_sentence = \"Jeg elsker denne film!\"\n",
    "danish_results = distilled_student_sentiment_classifier(danish_sentence)\n",
    "print(f\"Danish sentence: {danish_sentence}\")\n",
    "most_probable = sorted(danish_results[0], key=lambda d: d['score'], reverse=True)[0]\n",
    "print(f\"Sentiment: {most_probable['label']} ({int(most_probable['score']*100)}%)\")"
   ]
  },
  {
   "cell_type": "markdown",
   "id": "acee8765-9d43-4b68-afdb-c9055829c2ba",
   "metadata": {},
   "source": [
    "## Emotion classification\n",
    "\n",
    "Sometimes, having only the ability to predict between positive/negative is not particularly useful. Instead, we want to be able to categorise a wider range of emotions. "
   ]
  },
  {
   "cell_type": "code",
   "execution_count": 5,
   "id": "dcbd0336-07ad-4a09-be81-34a84ca49011",
   "metadata": {
    "tags": []
   },
   "outputs": [
    {
     "name": "stdout",
     "output_type": "stream",
     "text": [
      "Downloading file /tmp/tmph5qk9j82\n"
     ]
    },
    {
     "name": "stderr",
     "output_type": "stream",
     "text": [
      "100% |########################################################################|\n",
      "  0% |                                                                        |\r"
     ]
    },
    {
     "name": "stdout",
     "output_type": "stream",
     "text": [
      "Downloading file /tmp/tmprkqk0suw\n"
     ]
    },
    {
     "name": "stderr",
     "output_type": "stream",
     "text": [
      "100% |########################################################################|\n",
      "You passed along `num_labels=8` with an incompatible id to label map: {'0': 'LABEL_0', '1': 'LABEL_1'}. The number of labels wil be overwritten to 2.\n",
      "You passed along `num_labels=8` with an incompatible id to label map: {'0': 'LABEL_0', '1': 'LABEL_1'}. The number of labels wil be overwritten to 2.\n"
     ]
    }
   ],
   "source": [
    "from danlp.models import load_bert_emotion_model\n",
    "classifier = load_bert_emotion_model()\n",
    "clear_output(wait=True)"
   ]
  },
  {
   "cell_type": "markdown",
   "id": "6043690e-2429-45e3-ad04-2062a7dc496e",
   "metadata": {},
   "source": [
    "We can see the range of emotions available for predictions in this model:"
   ]
  },
  {
   "cell_type": "code",
   "execution_count": 6,
   "id": "d36adc78-4610-4cdd-90d1-aef06d4eaeb1",
   "metadata": {
    "tags": []
   },
   "outputs": [
    {
     "name": "stdout",
     "output_type": "stream",
     "text": [
      "Glæde/Sindsro\n",
      "Tillid/Accept\n",
      "Forventning/Interrese\n",
      "Overasket/Målløs\n",
      "Vrede/Irritation\n",
      "Foragt/Modvilje\n",
      "Sorg/trist\n",
      "Frygt/Bekymret\n"
     ]
    }
   ],
   "source": [
    "for class_label in classifier._classes()[0]:\n",
    "    print(class_label)"
   ]
  },
  {
   "cell_type": "markdown",
   "id": "02f06c2e-f526-426c-bbc5-3d944ada1d47",
   "metadata": {},
   "source": [
    "We can then make predictions for individual sentences:"
   ]
  },
  {
   "cell_type": "code",
   "execution_count": 7,
   "id": "cededefa-8f9d-48e6-85e9-9f000c138838",
   "metadata": {},
   "outputs": [
    {
     "name": "stdout",
     "output_type": "stream",
     "text": [
      "der er et træ i haven: No emotion\n"
     ]
    }
   ],
   "source": [
    "sentence1 = 'der er et træ i haven'\n",
    "sentence1_result = classifier.predict(sentence1)\n",
    "print(f\"{sentence1}: {sentence1_result}\")"
   ]
  },
  {
   "cell_type": "code",
   "execution_count": 8,
   "id": "39fc2137-d7ad-41a8-b4df-d1d9cdc150f3",
   "metadata": {},
   "outputs": [
    {
     "name": "stdout",
     "output_type": "stream",
     "text": [
      "jeg ejer en rød bil og det er en god bil: Tillid/Accept\n"
     ]
    }
   ],
   "source": [
    "sentence2 = 'jeg ejer en rød bil og det er en god bil'\n",
    "sentence2_result = classifier.predict(sentence2)\n",
    "print(f\"{sentence2}: {sentence2_result}\")"
   ]
  },
  {
   "cell_type": "code",
   "execution_count": 9,
   "id": "5af5f7ee-15e3-4f4c-b4b7-4a9ed6a15609",
   "metadata": {},
   "outputs": [
    {
     "name": "stdout",
     "output_type": "stream",
     "text": [
      "jeg ejer en rød bil men den er gået i stykker: Sorg/trist\n"
     ]
    }
   ],
   "source": [
    "sentence3 = 'jeg ejer en rød bil men den er gået i stykker'\n",
    "sentence3_result = classifier.predict(sentence3)\n",
    "print(f\"{sentence3}: {sentence3_result}\")"
   ]
  },
  {
   "cell_type": "code",
   "execution_count": null,
   "id": "d23948b9-29b0-4156-8fb6-649e6db49883",
   "metadata": {},
   "outputs": [],
   "source": []
  }
 ],
 "metadata": {
  "kernelspec": {
   "display_name": "Python 3 ",
   "language": "python",
   "name": "python3"
  },
  "language_info": {
   "codemirror_mode": {
    "name": "ipython",
    "version": 3
   },
   "file_extension": ".py",
   "mimetype": "text/x-python",
   "name": "python",
   "nbconvert_exporter": "python",
   "pygments_lexer": "ipython3",
   "version": "3.10.10"
  }
 },
 "nbformat": 4,
 "nbformat_minor": 5
}
